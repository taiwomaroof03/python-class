{
  "nbformat": 4,
  "nbformat_minor": 0,
  "metadata": {
    "colab": {
      "provenance": [],
      "authorship_tag": "ABX9TyOryiFZVT722aE7Z4sF3uM9",
      "include_colab_link": true
    },
    "kernelspec": {
      "name": "python3",
      "display_name": "Python 3"
    },
    "language_info": {
      "name": "python"
    }
  },
  "cells": [
    {
      "cell_type": "markdown",
      "metadata": {
        "id": "view-in-github",
        "colab_type": "text"
      },
      "source": [
        "<a href=\"https://colab.research.google.com/github/taiwomaroof03/python-class/blob/main/Untitled5.ipynb\" target=\"_parent\"><img src=\"https://colab.research.google.com/assets/colab-badge.svg\" alt=\"Open In Colab\"/></a>"
      ]
    },
    {
      "cell_type": "code",
      "execution_count": 5,
      "metadata": {
        "colab": {
          "base_uri": "https://localhost:8080/"
        },
        "id": "EXBKfGG9jlw_",
        "outputId": "8749ec07-9d9f-42a1-f2cb-65b52b4fd1c7"
      },
      "outputs": [
        {
          "output_type": "stream",
          "name": "stdout",
          "text": [
            "2\n",
            "4\n",
            "6\n",
            "8\n",
            "10\n",
            "12\n",
            "14\n",
            "16\n",
            "18\n",
            "20\n",
            "22\n",
            "24\n",
            "26\n",
            "28\n",
            "30\n",
            "32\n",
            "34\n",
            "36\n",
            "38\n",
            "40\n",
            "42\n",
            "44\n",
            "46\n",
            "48\n",
            "50\n",
            "52\n",
            "54\n",
            "56\n",
            "58\n",
            "60\n",
            "62\n",
            "64\n",
            "66\n",
            "68\n",
            "70\n",
            "72\n",
            "74\n",
            "76\n",
            "78\n",
            "80\n",
            "82\n",
            "84\n",
            "86\n",
            "88\n",
            "90\n",
            "92\n",
            "94\n",
            "96\n",
            "98\n",
            "100\n"
          ]
        }
      ],
      "source": [
        "for i in range(2,102,2):\n",
        "  print(i)"
      ]
    },
    {
      "cell_type": "code",
      "source": [
        "for i in range(5,21,5):\n",
        "  print(i)"
      ],
      "metadata": {
        "colab": {
          "base_uri": "https://localhost:8080/"
        },
        "id": "UOEqN_CVmTSN",
        "outputId": "0208c9ee-778d-48e2-d9c5-149b85157304"
      },
      "execution_count": 8,
      "outputs": [
        {
          "output_type": "stream",
          "name": "stdout",
          "text": [
            "5\n",
            "10\n",
            "15\n",
            "20\n"
          ]
        }
      ]
    },
    {
      "cell_type": "markdown",
      "source": [
        "#ITERATION"
      ],
      "metadata": {
        "id": "Bf08PMGszq4u"
      }
    },
    {
      "cell_type": "code",
      "source": [
        "y=1\n",
        "for x in range(20,40):\n",
        "  print(f\"the value of x at iteration {y} is {x}\")\n",
        "  y=y+1\n",
        "\n",
        "else:\n",
        "  print(\"finished\")\n",
        "print(f'our total iteration is {y-1}')"
      ],
      "metadata": {
        "colab": {
          "base_uri": "https://localhost:8080/"
        },
        "id": "VvPDFMLHmzWk",
        "outputId": "8ee679d3-e72b-49a3-e06a-9d9d73699a91"
      },
      "execution_count": 30,
      "outputs": [
        {
          "output_type": "stream",
          "name": "stdout",
          "text": [
            "the value of x at iteration 1 is 20\n",
            "the value of x at iteration 2 is 21\n",
            "the value of x at iteration 3 is 22\n",
            "the value of x at iteration 4 is 23\n",
            "the value of x at iteration 5 is 24\n",
            "the value of x at iteration 6 is 25\n",
            "the value of x at iteration 7 is 26\n",
            "the value of x at iteration 8 is 27\n",
            "the value of x at iteration 9 is 28\n",
            "the value of x at iteration 10 is 29\n",
            "the value of x at iteration 11 is 30\n",
            "the value of x at iteration 12 is 31\n",
            "the value of x at iteration 13 is 32\n",
            "the value of x at iteration 14 is 33\n",
            "the value of x at iteration 15 is 34\n",
            "the value of x at iteration 16 is 35\n",
            "the value of x at iteration 17 is 36\n",
            "the value of x at iteration 18 is 37\n",
            "the value of x at iteration 19 is 38\n",
            "the value of x at iteration 20 is 39\n",
            "finished\n",
            "our total iteration is 20\n"
          ]
        }
      ]
    }
  ]
}